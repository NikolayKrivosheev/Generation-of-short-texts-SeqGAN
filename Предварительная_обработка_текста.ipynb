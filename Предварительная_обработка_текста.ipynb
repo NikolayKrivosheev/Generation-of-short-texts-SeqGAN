{
  "nbformat": 4,
  "nbformat_minor": 0,
  "metadata": {
    "colab": {
      "name": "Предварительная обработка текста для статьи.ipynb",
      "provenance": [],
      "collapsed_sections": []
    },
    "kernelspec": {
      "name": "python2",
      "display_name": "Python 2"
    },
    "accelerator": "GPU"
  },
  "cells": [
    {
      "cell_type": "code",
      "metadata": {
        "id": "3ZGSSarWFn7m",
        "colab_type": "code",
        "colab": {
          "base_uri": "https://localhost:8080/",
          "height": 34
        },
        "outputId": "734aa8fd-cd58-4b18-aa04-6ad61ab8f53d"
      },
      "source": [
        "#подключение к гугл диску\n",
        "from google.colab import drive\n",
        "drive.mount('/content/drive')"
      ],
      "execution_count": 1,
      "outputs": [
        {
          "output_type": "stream",
          "text": [
            "Drive already mounted at /content/drive; to attempt to forcibly remount, call drive.mount(\"/content/drive\", force_remount=True).\n"
          ],
          "name": "stdout"
        }
      ]
    },
    {
      "cell_type": "markdown",
      "metadata": {
        "id": "9JfjJI1L8_sk",
        "colab_type": "text"
      },
      "source": [
        "Обработка текста"
      ]
    },
    {
      "cell_type": "code",
      "metadata": {
        "id": "LaZnnQ0IxaK3",
        "colab_type": "code",
        "colab": {
          "base_uri": "https://localhost:8080/",
          "height": 136
        },
        "outputId": "26ef2578-a08c-426f-fb5e-f1f4afc47e07"
      },
      "source": [
        "import pandas\n",
        "df = pandas.read_csv('/content/drive/My Drive/Programm/LeakGAN/datasets/stihi_ru.csv', index_col='author')\n",
        "print(df[:5])"
      ],
      "execution_count": 4,
      "outputs": [
        {
          "output_type": "stream",
          "text": [
            "                                                                   text\n",
            "author                                                                 \n",
            "Марина Копсергенова       \\r\\nДетки мои  Живите неспеша   чтоб пела ...\n",
            "Владислав Иванов 13   Каждый по своему проводит свою ночь\\r\\nКто спи...\n",
            "Лия Эль               Нежно так  я словами касался предплечий\\r\\nИх ...\n",
            "Елена Кедровая Шишка  Ты  как всегда  меня поймешь\\r\\nИ  как всегда ...\n",
            "Леонид Хегай          Укусить бы кого нибудь больно\\r\\nиль повыть  п...\n"
          ],
          "name": "stdout"
        }
      ]
    },
    {
      "cell_type": "code",
      "metadata": {
        "id": "qxFk-2b0yS9N",
        "colab_type": "code",
        "colab": {
          "base_uri": "https://localhost:8080/",
          "height": 34
        },
        "outputId": "edbdc49f-078a-437c-9a45-32a48e9fc828"
      },
      "source": [
        "import numpy as np\n",
        "text = '\\n\\n'.join(np.array(df)[:, 0])\n",
        "print u'Всего символов:', len(text)"
      ],
      "execution_count": 5,
      "outputs": [
        {
          "output_type": "stream",
          "text": [
            "Всего символов: 173878311\n"
          ],
          "name": "stdout"
        }
      ]
    },
    {
      "cell_type": "code",
      "metadata": {
        "id": "WFc7YOVv9swT",
        "colab_type": "code",
        "colab": {}
      },
      "source": [
        "# f = open(\"datasets/Texts.txt\", \"r\")\n",
        "# text = f.read().decode('utf-8')"
      ],
      "execution_count": 6,
      "outputs": []
    },
    {
      "cell_type": "code",
      "metadata": {
        "id": "XsO0gbgZJX8v",
        "colab_type": "code",
        "colab": {
          "base_uri": "https://localhost:8080/",
          "height": 68
        },
        "outputId": "1c659368-72e1-41f1-97b4-5db6982af7da"
      },
      "source": [
        "import nltk\n",
        "nltk.download('punkt')"
      ],
      "execution_count": 7,
      "outputs": [
        {
          "output_type": "stream",
          "text": [
            "[nltk_data] Downloading package punkt to /root/nltk_data...\n",
            "[nltk_data]   Package punkt is already up-to-date!\n"
          ],
          "name": "stdout"
        },
        {
          "output_type": "execute_result",
          "data": {
            "text/plain": [
              "True"
            ]
          },
          "metadata": {
            "tags": []
          },
          "execution_count": 7
        }
      ]
    },
    {
      "cell_type": "code",
      "metadata": {
        "id": "fUtaVaTSMnuE",
        "colab_type": "code",
        "colab": {}
      },
      "source": [
        "# в нижний регистр\n",
        "text = text.lower()"
      ],
      "execution_count": 8,
      "outputs": []
    },
    {
      "cell_type": "code",
      "metadata": {
        "id": "dcoitam1Gf-9",
        "colab_type": "code",
        "colab": {}
      },
      "source": [
        "from copy import deepcopy as dcopy\n",
        "\n",
        "text_copy = dcopy(text)"
      ],
      "execution_count": 9,
      "outputs": []
    },
    {
      "cell_type": "code",
      "metadata": {
        "id": "XHHvWzQuGk_g",
        "colab_type": "code",
        "colab": {}
      },
      "source": [
        "text = dcopy(text_copy)"
      ],
      "execution_count": 10,
      "outputs": []
    },
    {
      "cell_type": "code",
      "metadata": {
        "id": "YY0jgL5GNx3R",
        "colab_type": "code",
        "colab": {}
      },
      "source": [
        "# количество упоминаний каждого слова (http://nlpx.net/archives/29)\n",
        "from collections import Counter\n",
        "\n",
        "cntr = Counter(nltk.word_tokenize(text)) # подсчет упоминаний"
      ],
      "execution_count": 11,
      "outputs": []
    },
    {
      "cell_type": "code",
      "metadata": {
        "id": "nUuqWGWO3Z-u",
        "colab_type": "code",
        "colab": {}
      },
      "source": [
        "most_words = list(cntr.most_common(5000-3)) # наиболее частые N-1 слов (добавится заполнитель)\n",
        "# most_words = cntr.elements() # вернуть слова"
      ],
      "execution_count": 12,
      "outputs": []
    },
    {
      "cell_type": "code",
      "metadata": {
        "id": "c35YKQSasOtX",
        "colab_type": "code",
        "colab": {
          "base_uri": "https://localhost:8080/",
          "height": 34
        },
        "outputId": "ddc8be57-04f1-4165-ba0f-52c19e03223e"
      },
      "source": [
        "print \"Всего слов: \", len(list(cntr.most_common(10000000)))"
      ],
      "execution_count": 13,
      "outputs": [
        {
          "output_type": "stream",
          "text": [
            "Всего слов:  468867\n"
          ],
          "name": "stdout"
        }
      ]
    },
    {
      "cell_type": "code",
      "metadata": {
        "id": "kAh7Q0CiGyWh",
        "colab_type": "code",
        "colab": {
          "base_uri": "https://localhost:8080/",
          "height": 34
        },
        "outputId": "5c3878e5-c13b-43c7-a5d2-38e1269941f7"
      },
      "source": [
        "print 'Количество упоминаний самого редкого слова до обработки текста:', most_words[-1][0], most_words[-1][1]"
      ],
      "execution_count": 31,
      "outputs": [
        {
          "output_type": "stream",
          "text": [
            "Количество упоминаний самого редкого слова до обработки текста: мечтами 344\n"
          ],
          "name": "stdout"
        }
      ]
    },
    {
      "cell_type": "code",
      "metadata": {
        "id": "BXCIB-XGOofr",
        "colab_type": "code",
        "colab": {
          "base_uri": "https://localhost:8080/",
          "height": 34
        },
        "outputId": "2c1dd9a0-79df-4918-ca1d-b8129e203085"
      },
      "source": [
        "# создание словаря слов\n",
        "vocab = dict()\n",
        "for i in range(len(most_words)):\n",
        "  vocab[most_words[i][0]] = i\n",
        "vocab[u'_AGG_']=len(vocab) # добавить пробел (заполнитель)\n",
        "vocab[u'_UNK_']=len(vocab) # добавить удаленное слово (удаляемые слова заменяются этим словом)\n",
        "vocab[u'_START_']=len(vocab) # добавить стартовое слово в словарь\n",
        "\n",
        "d = vocab\n",
        "list_d = list(d.items())\n",
        "list_d.sort(key=lambda i: i[1])\n",
        "\n",
        "word = []\n",
        "for i in range(len(list_d)):\n",
        "  word.append(list_d[i][0])\n",
        "print 'Слов в словаре:', len(word)"
      ],
      "execution_count": 34,
      "outputs": [
        {
          "output_type": "stream",
          "text": [
            "Слов в словаре: 5000\n"
          ],
          "name": "stdout"
        }
      ]
    },
    {
      "cell_type": "code",
      "metadata": {
        "id": "B_WzByRDB8Zy",
        "colab_type": "code",
        "colab": {
          "base_uri": "https://localhost:8080/",
          "height": 34
        },
        "outputId": "d259e571-e362-496f-869b-f8b351a5b066"
      },
      "source": [
        "len(sets)//10"
      ],
      "execution_count": 72,
      "outputs": [
        {
          "output_type": "execute_result",
          "data": {
            "text/plain": [
              "257868"
            ]
          },
          "metadata": {
            "tags": []
          },
          "execution_count": 72
        }
      ]
    },
    {
      "cell_type": "code",
      "metadata": {
        "id": "6XGcbXaoSew8",
        "colab_type": "code",
        "colab": {
          "base_uri": "https://localhost:8080/",
          "height": 459
        },
        "outputId": "3eeb66bd-af92-488a-cd5f-10d915e34c1f"
      },
      "source": [
        "# разделение текста на предложения и слова (если в выборке есть знаки препинания, то примером считается предложение)\n",
        "# text_processed = []\n",
        "# for sent in nltk.sent_tokenize(text):\n",
        "#   text_processed.append(nltk.word_tokenize(sent))\n",
        "\n",
        "# разделение текста на строки и слова (если в выборке нет знаков препинания, то примером считается строка)\n",
        "text_processed = []\n",
        "sets = text.split('\\n')\n",
        "for i, sent in enumerate(sets):\n",
        "  if(i%(len(sets)//25)==0):\n",
        "    print float(i)/float(len(sets)), '%'\n",
        "  text_processed.append(nltk.word_tokenize(sent))"
      ],
      "execution_count": 74,
      "outputs": [
        {
          "output_type": "stream",
          "text": [
            "0.0 %\n",
            "0.0399998448822 %\n",
            "0.0799996897644 %\n",
            "0.119999534647 %\n",
            "0.159999379529 %\n",
            "0.199999224411 %\n",
            "0.239999069293 %\n",
            "0.279998914175 %\n",
            "0.319998759057 %\n",
            "0.35999860394 %\n",
            "0.399998448822 %\n",
            "0.439998293704 %\n",
            "0.479998138586 %\n",
            "0.519997983468 %\n",
            "0.55999782835 %\n",
            "0.599997673233 %\n",
            "0.639997518115 %\n",
            "0.679997362997 %\n",
            "0.719997207879 %\n",
            "0.759997052761 %\n",
            "0.799996897644 %\n",
            "0.839996742526 %\n",
            "0.879996587408 %\n",
            "0.91999643229 %\n",
            "0.959996277172 %\n",
            "0.999996122054 %\n"
          ],
          "name": "stdout"
        }
      ]
    },
    {
      "cell_type": "code",
      "metadata": {
        "id": "a1yVVKQID_e5",
        "colab_type": "code",
        "colab": {}
      },
      "source": [
        "from copy import deepcopy as dcopy\n",
        "\n",
        "text_preprocessed_copy = dcopy(text_processed)"
      ],
      "execution_count": 75,
      "outputs": []
    },
    {
      "cell_type": "code",
      "metadata": {
        "id": "eSTI4mQPEKEr",
        "colab_type": "code",
        "colab": {}
      },
      "source": [
        "text_processed = dcopy(text_preprocessed_copy)"
      ],
      "execution_count": 76,
      "outputs": []
    },
    {
      "cell_type": "code",
      "metadata": {
        "id": "AjLAjCi4RlSW",
        "colab_type": "code",
        "colab": {
          "base_uri": "https://localhost:8080/",
          "height": 1000
        },
        "outputId": "f4be3f9b-5423-4c5a-be7b-f1b0a482a625"
      },
      "source": [
        "# удаление не вошедших в словарь слов\n",
        "DEL_sentences=0\n",
        "len_texts = len(text_processed)\n",
        "i=0\n",
        "ii=0\n",
        "while i < len(text_processed):\n",
        "  if(ii%(len_texts//100) == 0):\n",
        "    print ii//(len_texts//100), u\"Удалено:\", DEL_sentences, u'Осталось: ', len(text_processed), u'Сохранено: ', ii-DEL_sentences\n",
        "  \n",
        "  ln_n = len(text_processed[i])\n",
        "  ln_s = 0\n",
        "  j=0\n",
        "  while j < len(text_processed[i]):\n",
        "    if(text_processed[i][j] not in word):\n",
        "      #del(text_processed[i][j]) continue\n",
        "      text_processed[i][j] = u'_UNK_' #замена слов\n",
        "      ln_s+=1\n",
        "    j+=1\n",
        "  if(ln_s>=1):#если больше, чем N слов в примере не вошло в словарь, удалить пример\n",
        "    del(text_processed[i])\n",
        "    DEL_sentences+=1\n",
        "  else:\n",
        "    i+=1\n",
        "  ii+=1\n",
        "print u\"Удалено предложений (с недостающими словами):\", DEL_sentences\n",
        "print u'Осталось предложений: ', len(text_processed)"
      ],
      "execution_count": 102,
      "outputs": [
        {
          "output_type": "stream",
          "text": [
            "0 Удалено: 0 Осталось:  589032 Сохранено:  0\n"
          ],
          "name": "stdout"
        },
        {
          "output_type": "stream",
          "text": [
            "/usr/local/lib/python2.7/dist-packages/ipykernel_launcher.py:14: UnicodeWarning: Unicode equal comparison failed to convert both arguments to Unicode - interpreting them as being unequal\n",
            "  \n"
          ],
          "name": "stderr"
        },
        {
          "output_type": "stream",
          "text": [
            "1 Удалено: 0 Осталось:  589032 Сохранено:  5890\n",
            "2 Удалено: 0 Осталось:  589032 Сохранено:  11780\n",
            "3 Удалено: 0 Осталось:  589032 Сохранено:  17670\n",
            "4 Удалено: 0 Осталось:  589032 Сохранено:  23560\n",
            "5 Удалено: 0 Осталось:  589032 Сохранено:  29450\n",
            "6 Удалено: 0 Осталось:  589032 Сохранено:  35340\n",
            "7 Удалено: 0 Осталось:  589032 Сохранено:  41230\n",
            "8 Удалено: 0 Осталось:  589032 Сохранено:  47120\n",
            "9 Удалено: 0 Осталось:  589032 Сохранено:  53010\n",
            "10 Удалено: 0 Осталось:  589032 Сохранено:  58900\n",
            "11 Удалено: 0 Осталось:  589032 Сохранено:  64790\n",
            "12 Удалено: 0 Осталось:  589032 Сохранено:  70680\n",
            "13 Удалено: 0 Осталось:  589032 Сохранено:  76570\n",
            "14 Удалено: 0 Осталось:  589032 Сохранено:  82460\n",
            "15 Удалено: 0 Осталось:  589032 Сохранено:  88350\n",
            "16 Удалено: 0 Осталось:  589032 Сохранено:  94240\n",
            "17 Удалено: 0 Осталось:  589032 Сохранено:  100130\n",
            "18 Удалено: 0 Осталось:  589032 Сохранено:  106020\n",
            "19 Удалено: 0 Осталось:  589032 Сохранено:  111910\n",
            "20 Удалено: 0 Осталось:  589032 Сохранено:  117800\n",
            "21 Удалено: 0 Осталось:  589032 Сохранено:  123690\n",
            "22 Удалено: 0 Осталось:  589032 Сохранено:  129580\n",
            "23 Удалено: 0 Осталось:  589032 Сохранено:  135470\n",
            "24 Удалено: 0 Осталось:  589032 Сохранено:  141360\n",
            "25 Удалено: 0 Осталось:  589032 Сохранено:  147250\n",
            "26 Удалено: 0 Осталось:  589032 Сохранено:  153140\n",
            "27 Удалено: 0 Осталось:  589032 Сохранено:  159030\n",
            "28 Удалено: 0 Осталось:  589032 Сохранено:  164920\n",
            "29 Удалено: 0 Осталось:  589032 Сохранено:  170810\n",
            "30 Удалено: 0 Осталось:  589032 Сохранено:  176700\n",
            "31 Удалено: 0 Осталось:  589032 Сохранено:  182590\n",
            "32 Удалено: 0 Осталось:  589032 Сохранено:  188480\n",
            "33 Удалено: 0 Осталось:  589032 Сохранено:  194370\n",
            "34 Удалено: 0 Осталось:  589032 Сохранено:  200260\n",
            "35 Удалено: 0 Осталось:  589032 Сохранено:  206150\n",
            "36 Удалено: 0 Осталось:  589032 Сохранено:  212040\n",
            "37 Удалено: 0 Осталось:  589032 Сохранено:  217930\n",
            "38 Удалено: 0 Осталось:  589032 Сохранено:  223820\n",
            "39 Удалено: 0 Осталось:  589032 Сохранено:  229710\n",
            "40 Удалено: 0 Осталось:  589032 Сохранено:  235600\n",
            "41 Удалено: 0 Осталось:  589032 Сохранено:  241490\n",
            "42 Удалено: 0 Осталось:  589032 Сохранено:  247380\n",
            "43 Удалено: 0 Осталось:  589032 Сохранено:  253270\n",
            "44 Удалено: 0 Осталось:  589032 Сохранено:  259160\n",
            "45 Удалено: 0 Осталось:  589032 Сохранено:  265050\n",
            "46 Удалено: 0 Осталось:  589032 Сохранено:  270940\n",
            "47 Удалено: 0 Осталось:  589032 Сохранено:  276830\n",
            "48 Удалено: 0 Осталось:  589032 Сохранено:  282720\n",
            "49 Удалено: 0 Осталось:  589032 Сохранено:  288610\n",
            "50 Удалено: 0 Осталось:  589032 Сохранено:  294500\n",
            "51 Удалено: 0 Осталось:  589032 Сохранено:  300390\n",
            "52 Удалено: 0 Осталось:  589032 Сохранено:  306280\n",
            "53 Удалено: 0 Осталось:  589032 Сохранено:  312170\n",
            "54 Удалено: 0 Осталось:  589032 Сохранено:  318060\n",
            "55 Удалено: 0 Осталось:  589032 Сохранено:  323950\n",
            "56 Удалено: 0 Осталось:  589032 Сохранено:  329840\n",
            "57 Удалено: 0 Осталось:  589032 Сохранено:  335730\n",
            "58 Удалено: 0 Осталось:  589032 Сохранено:  341620\n",
            "59 Удалено: 0 Осталось:  589032 Сохранено:  347510\n",
            "60 Удалено: 0 Осталось:  589032 Сохранено:  353400\n",
            "61 Удалено: 0 Осталось:  589032 Сохранено:  359290\n",
            "62 Удалено: 0 Осталось:  589032 Сохранено:  365180\n",
            "63 Удалено: 0 Осталось:  589032 Сохранено:  371070\n",
            "64 Удалено: 0 Осталось:  589032 Сохранено:  376960\n",
            "65 Удалено: 0 Осталось:  589032 Сохранено:  382850\n",
            "66 Удалено: 0 Осталось:  589032 Сохранено:  388740\n",
            "67 Удалено: 0 Осталось:  589032 Сохранено:  394630\n",
            "68 Удалено: 0 Осталось:  589032 Сохранено:  400520\n",
            "69 Удалено: 0 Осталось:  589032 Сохранено:  406410\n",
            "70 Удалено: 0 Осталось:  589032 Сохранено:  412300\n",
            "71 Удалено: 0 Осталось:  589032 Сохранено:  418190\n",
            "72 Удалено: 0 Осталось:  589032 Сохранено:  424080\n",
            "73 Удалено: 0 Осталось:  589032 Сохранено:  429970\n",
            "74 Удалено: 0 Осталось:  589032 Сохранено:  435860\n",
            "75 Удалено: 0 Осталось:  589032 Сохранено:  441750\n",
            "76 Удалено: 0 Осталось:  589032 Сохранено:  447640\n",
            "77 Удалено: 0 Осталось:  589032 Сохранено:  453530\n",
            "78 Удалено: 0 Осталось:  589032 Сохранено:  459420\n",
            "79 Удалено: 0 Осталось:  589032 Сохранено:  465310\n",
            "80 Удалено: 0 Осталось:  589032 Сохранено:  471200\n",
            "81 Удалено: 0 Осталось:  589032 Сохранено:  477090\n",
            "82 Удалено: 0 Осталось:  589032 Сохранено:  482980\n",
            "83 Удалено: 0 Осталось:  589032 Сохранено:  488870\n",
            "84 Удалено: 0 Осталось:  589032 Сохранено:  494760\n",
            "85 Удалено: 0 Осталось:  589032 Сохранено:  500650\n",
            "86 Удалено: 0 Осталось:  589032 Сохранено:  506540\n",
            "87 Удалено: 0 Осталось:  589032 Сохранено:  512430\n",
            "88 Удалено: 0 Осталось:  589032 Сохранено:  518320\n",
            "89 Удалено: 0 Осталось:  589032 Сохранено:  524210\n",
            "90 Удалено: 0 Осталось:  589032 Сохранено:  530100\n",
            "91 Удалено: 0 Осталось:  589032 Сохранено:  535990\n",
            "92 Удалено: 0 Осталось:  589032 Сохранено:  541880\n",
            "93 Удалено: 0 Осталось:  589032 Сохранено:  547770\n",
            "94 Удалено: 0 Осталось:  589032 Сохранено:  553660\n",
            "95 Удалено: 0 Осталось:  589032 Сохранено:  559550\n",
            "96 Удалено: 0 Осталось:  589032 Сохранено:  565440\n",
            "97 Удалено: 0 Осталось:  589032 Сохранено:  571330\n",
            "98 Удалено: 0 Осталось:  589032 Сохранено:  577220\n",
            "99 Удалено: 0 Осталось:  589032 Сохранено:  583110\n",
            "100 Удалено: 0 Осталось:  589032 Сохранено:  589000\n",
            "Удалено предложений (с недостающими словами): 0\n",
            "Осталось предложений:  589032\n"
          ],
          "name": "stdout"
        }
      ]
    },
    {
      "cell_type": "code",
      "metadata": {
        "id": "gAifj0-PzujH",
        "colab_type": "code",
        "colab": {}
      },
      "source": [
        "from copy import deepcopy as dcopy\n",
        "\n",
        "text_del_processed_copy = dcopy(text_processed)"
      ],
      "execution_count": 78,
      "outputs": []
    },
    {
      "cell_type": "code",
      "metadata": {
        "id": "v9NvH25fzz6M",
        "colab_type": "code",
        "colab": {}
      },
      "source": [
        "text_processed = dcopy(text_del_processed_copy)"
      ],
      "execution_count": 100,
      "outputs": []
    },
    {
      "cell_type": "code",
      "metadata": {
        "id": "D3h69NYKUDoB",
        "colab_type": "code",
        "colab": {}
      },
      "source": [
        "# преобразование текста в набор чисел\n",
        "for i in range(len(text_processed)):\n",
        "  for j in range(len(text_processed[i])):\n",
        "    text_processed[i][j] = vocab[text_processed[i][j]]"
      ],
      "execution_count": 103,
      "outputs": []
    },
    {
      "cell_type": "code",
      "metadata": {
        "id": "glr9-bIr1MuW",
        "colab_type": "code",
        "colab": {}
      },
      "source": [
        "from copy import deepcopy as dcopy\n",
        "\n",
        "text_processed_copy = dcopy(text_processed)"
      ],
      "execution_count": 104,
      "outputs": []
    },
    {
      "cell_type": "code",
      "metadata": {
        "id": "D5HwlYYq1WC5",
        "colab_type": "code",
        "colab": {}
      },
      "source": [
        "text_processed = dcopy(text_processed_copy)"
      ],
      "execution_count": 119,
      "outputs": []
    },
    {
      "cell_type": "code",
      "metadata": {
        "id": "B8zdfx2uUWlA",
        "colab_type": "code",
        "colab": {
          "base_uri": "https://localhost:8080/",
          "height": 34
        },
        "outputId": "357d9842-6696-4d0b-9a5b-6ab9d3313564"
      },
      "source": [
        "# удаление длинных предложений и коротких предложений\n",
        "max_n_sent = 50\n",
        "min_n_sent = 25\n",
        "i=0\n",
        "while i < len(text_processed):\n",
        "  if(len(text_processed[i]) < min_n_sent):\n",
        "    del(text_processed[i])\n",
        "  else:\n",
        "    text_processed[i] = text_processed[i][:max_n_sent]\n",
        "    i+=1\n",
        "print('Предложений: ', len(text_processed)) #112138 #214986 #571377"
      ],
      "execution_count": 120,
      "outputs": [
        {
          "output_type": "stream",
          "text": [
            "('\\xd0\\x9f\\xd1\\x80\\xd0\\xb5\\xd0\\xb4\\xd0\\xbb\\xd0\\xbe\\xd0\\xb6\\xd0\\xb5\\xd0\\xbd\\xd0\\xb8\\xd0\\xb9: ', 2436)\n"
          ],
          "name": "stdout"
        }
      ]
    },
    {
      "cell_type": "code",
      "metadata": {
        "id": "Sn7bpq6vVnqv",
        "colab_type": "code",
        "colab": {}
      },
      "source": [
        "# дополнение предложений до заданной длины заполнителем (' ' - пробелом)\n",
        "max_n_sent = max_n_sent\n",
        "for i in range(len(text_processed)):\n",
        "  while len(text_processed[i]) < max_n_sent:\n",
        "    text_processed[i].append(vocab['_AGG_'])"
      ],
      "execution_count": 107,
      "outputs": []
    },
    {
      "cell_type": "code",
      "metadata": {
        "id": "mpnuzc9vWrlW",
        "colab_type": "code",
        "colab": {}
      },
      "source": [
        "import cPickle as pickle\n",
        "obj = (word, vocab)\n",
        "output = open(u'/content/drive/My Drive/Programm/LeakGAN/save/NEW_vocab_cotra.pkl', 'wb')\n",
        "pickle.dump(obj, output, 2)\n",
        "output.close()"
      ],
      "execution_count": 108,
      "outputs": []
    },
    {
      "cell_type": "code",
      "metadata": {
        "id": "hhmTd4kUgxjm",
        "colab_type": "code",
        "colab": {}
      },
      "source": [
        "from copy import deepcopy as dcopy\n",
        "\n",
        "text_shuffle_copy = dcopy(text_processed)"
      ],
      "execution_count": 109,
      "outputs": []
    },
    {
      "cell_type": "code",
      "metadata": {
        "id": "ebXllr4SiGJ2",
        "colab_type": "code",
        "colab": {}
      },
      "source": [
        "from random import shuffle\n",
        "\n",
        "text_processed = dcopy(text_shuffle_copy)\n",
        "shuffle(text_processed)"
      ],
      "execution_count": 110,
      "outputs": []
    },
    {
      "cell_type": "code",
      "metadata": {
        "id": "Ntg-ZL6XXTRe",
        "colab_type": "code",
        "colab": {
          "base_uri": "https://localhost:8080/",
          "height": 68
        },
        "outputId": "7f6a2a64-1e07-42df-b4dc-3c8b89c13918"
      },
      "source": [
        "print('Предложений: ', len(text_processed)) #112138 #214986\n",
        "for i in range(len(text_processed)):\n",
        "  text_processed[i] = ' '.join(map(str, text_processed[i]))\n",
        "print('Предложений: ', len(text_processed)) #112138 #214986\n",
        "text_processed = '\\n'.join(map(str, text_processed)) + '\\n'\n",
        "print('Символов: ', len(text_processed)) #15224801 #29791310"
      ],
      "execution_count": 111,
      "outputs": [
        {
          "output_type": "stream",
          "text": [
            "('\\xd0\\x9f\\xd1\\x80\\xd0\\xb5\\xd0\\xb4\\xd0\\xbb\\xd0\\xbe\\xd0\\xb6\\xd0\\xb5\\xd0\\xbd\\xd0\\xb8\\xd0\\xb9: ', 469355)\n",
            "('\\xd0\\x9f\\xd1\\x80\\xd0\\xb5\\xd0\\xb4\\xd0\\xbb\\xd0\\xbe\\xd0\\xb6\\xd0\\xb5\\xd0\\xbd\\xd0\\xb8\\xd0\\xb9: ', 469355)\n",
            "('\\xd0\\xa1\\xd0\\xb8\\xd0\\xbc\\xd0\\xb2\\xd0\\xbe\\xd0\\xbb\\xd0\\xbe\\xd0\\xb2: ', 16157678)\n"
          ],
          "name": "stdout"
        }
      ]
    },
    {
      "cell_type": "code",
      "metadata": {
        "id": "4LTP3oBMxtVh",
        "colab_type": "code",
        "colab": {
          "base_uri": "https://localhost:8080/",
          "height": 34
        },
        "outputId": "3c7c945e-451d-4ad1-e6ae-2a4217355fc6"
      },
      "source": [
        "i=0\n",
        "for t in text_processed:\n",
        "  if(t=='\\n'):\n",
        "    i+=1\n",
        "print(i, len(text_processed))"
      ],
      "execution_count": 112,
      "outputs": [
        {
          "output_type": "stream",
          "text": [
            "(469355, 16157678)\n"
          ],
          "name": "stdout"
        }
      ]
    },
    {
      "cell_type": "code",
      "metadata": {
        "id": "mWr5BX9lKCV5",
        "colab_type": "code",
        "colab": {
          "base_uri": "https://localhost:8080/",
          "height": 34
        },
        "outputId": "8f29f663-2d88-45da-a830-6e6b83764394"
      },
      "source": [
        "print('Символов: ', len(text_processed))\n",
        "text_file = open(u\"/content/drive/My Drive/Programm/LeakGAN/save/NEW_150k_realtrain_cotra.txt\", \"w\")\n",
        "text_file.write(text_processed[:150000])\n",
        "text_file.close()\n",
        "\n",
        "text_file = open(u\"/content/drive/My Drive/Programm/LeakGAN/save/NEW_15k_realtest_coco.txt\", \"w\")\n",
        "text_file.write(text_processed[-15000:])\n",
        "text_file.close()"
      ],
      "execution_count": 113,
      "outputs": [
        {
          "output_type": "stream",
          "text": [
            "('\\xd0\\xa1\\xd0\\xb8\\xd0\\xbc\\xd0\\xb2\\xd0\\xbe\\xd0\\xbb\\xd0\\xbe\\xd0\\xb2: ', 16157678)\n"
          ],
          "name": "stdout"
        }
      ]
    },
    {
      "cell_type": "code",
      "metadata": {
        "id": "G6gMz5HKYcex",
        "colab_type": "code",
        "colab": {
          "base_uri": "https://localhost:8080/",
          "height": 272
        },
        "outputId": "3669750a-4a6d-46df-beb7-701696136dff"
      },
      "source": [
        "print(text_processed[:500])"
      ],
      "execution_count": 114,
      "outputs": [
        {
          "output_type": "stream",
          "text": [
            "151 48 0 30 4082 10 242 78 4997 4997\n",
            "1530 0 50 271 1667 0 900 4997 4997 4997\n",
            "182 0 30 15 4 1672 497 4997 4997 4997\n",
            "21 1875 0 2277 142 15 32 0 1123 4997\n",
            "5 134 0 251 0 53 140 594 3 0\n",
            "17 7 143 453 52 0 2357 0 467 274\n",
            "202 0 1 3 0 720 7 2 84 685\n",
            "482 0 2444 784 67 3 0 106 65 0\n",
            "258 3 0 23 59 0 23 665 37 132\n",
            "194 161 8 355 0 1723 1071 1163 58 4997\n",
            "34 587 0 69 7 21 4998 0 53 4901\n",
            "21 122 232 6 10 441 15 1734 0 4997\n",
            "13 33 0 88 4 33 0 968 101 1\n",
            "194 35 85 1454 200 12 0 820 4997 4997\n",
            "46 41 100 0 88 18 78 162 3\n"
          ],
          "name": "stdout"
        }
      ]
    },
    {
      "cell_type": "code",
      "metadata": {
        "id": "MfnrBeQCiUQg",
        "colab_type": "code",
        "colab": {
          "base_uri": "https://localhost:8080/",
          "height": 231
        },
        "outputId": "0ce2c767-0c5f-44e6-a0b4-bbb584914dfd"
      },
      "source": [
        "data_Name = \"cotra\"\n",
        "vocab_file = \"NEW_vocab_\" + data_Name + \".pkl\"\n",
        "word, vocab = cPickle.load(open('/content/drive/My Drive/Programm/LeakGAN/save/'+vocab_file))\n",
        "\n",
        "print vocab['_ADD_'], vocab[u'я'], word[-1], word[-2]"
      ],
      "execution_count": 99,
      "outputs": [
        {
          "output_type": "error",
          "ename": "NameError",
          "evalue": "ignored",
          "traceback": [
            "\u001b[0;31m\u001b[0m",
            "\u001b[0;31mNameError\u001b[0mTraceback (most recent call last)",
            "\u001b[0;32m<ipython-input-99-0764795eaf74>\u001b[0m in \u001b[0;36m<module>\u001b[0;34m()\u001b[0m\n\u001b[1;32m      1\u001b[0m \u001b[0mdata_Name\u001b[0m \u001b[0;34m=\u001b[0m \u001b[0;34m\"cotra\"\u001b[0m\u001b[0;34m\u001b[0m\u001b[0m\n\u001b[1;32m      2\u001b[0m \u001b[0mvocab_file\u001b[0m \u001b[0;34m=\u001b[0m \u001b[0;34m\"NEW_vocab_\"\u001b[0m \u001b[0;34m+\u001b[0m \u001b[0mdata_Name\u001b[0m \u001b[0;34m+\u001b[0m \u001b[0;34m\".pkl\"\u001b[0m\u001b[0;34m\u001b[0m\u001b[0m\n\u001b[0;32m----> 3\u001b[0;31m \u001b[0mword\u001b[0m\u001b[0;34m,\u001b[0m \u001b[0mvocab\u001b[0m \u001b[0;34m=\u001b[0m \u001b[0mcPickle\u001b[0m\u001b[0;34m.\u001b[0m\u001b[0mload\u001b[0m\u001b[0;34m(\u001b[0m\u001b[0mopen\u001b[0m\u001b[0;34m(\u001b[0m\u001b[0;34m'/content/drive/My Drive/Programm/LeakGAN/save/'\u001b[0m\u001b[0;34m+\u001b[0m\u001b[0mvocab_file\u001b[0m\u001b[0;34m)\u001b[0m\u001b[0;34m)\u001b[0m\u001b[0;34m\u001b[0m\u001b[0m\n\u001b[0m\u001b[1;32m      4\u001b[0m \u001b[0;34m\u001b[0m\u001b[0m\n\u001b[1;32m      5\u001b[0m \u001b[0;32mprint\u001b[0m \u001b[0mvocab\u001b[0m\u001b[0;34m[\u001b[0m\u001b[0;34m'_ADD_'\u001b[0m\u001b[0;34m]\u001b[0m\u001b[0;34m,\u001b[0m \u001b[0mvocab\u001b[0m\u001b[0;34m[\u001b[0m\u001b[0;34mu'я'\u001b[0m\u001b[0;34m]\u001b[0m\u001b[0;34m,\u001b[0m \u001b[0mword\u001b[0m\u001b[0;34m[\u001b[0m\u001b[0;34m-\u001b[0m\u001b[0;36m1\u001b[0m\u001b[0;34m]\u001b[0m\u001b[0;34m,\u001b[0m \u001b[0mword\u001b[0m\u001b[0;34m[\u001b[0m\u001b[0;34m-\u001b[0m\u001b[0;36m2\u001b[0m\u001b[0;34m]\u001b[0m\u001b[0;34m\u001b[0m\u001b[0m\n",
            "\u001b[0;31mNameError\u001b[0m: name 'cPickle' is not defined"
          ]
        }
      ]
    }
  ]
}